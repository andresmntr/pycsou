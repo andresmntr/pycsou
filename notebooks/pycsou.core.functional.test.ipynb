{
 "cells": [
  {
   "cell_type": "code",
   "execution_count": 1,
   "source": [
    "import sys\n",
    "sys.path.append(\"..\")\n",
    "\n",
    "import numpy as np\n",
    "import cupy as cp\n",
    "import dask.array as da\n",
    "import jax.numpy as jnp\n",
    "\n",
    "from pycsou.func.penalty import L1Norm\n",
    "\n",
    "func = L1Norm(dim=10)\n",
    "x = np.arange(10); tau=0.1\n",
    "np.allclose((2 * func).prox(x, tau), func.prox(x, 2 * tau))"
   ],
   "outputs": [
    {
     "output_type": "execute_result",
     "data": {
      "text/plain": [
       "True"
      ]
     },
     "metadata": {},
     "execution_count": 1
    }
   ],
   "metadata": {}
  },
  {
   "cell_type": "code",
   "execution_count": 2,
   "source": [
    "np.allclose((func * 2).prox(x, tau), func.prox(x * 2, 4 * tau)/2)"
   ],
   "outputs": [
    {
     "output_type": "execute_result",
     "data": {
      "text/plain": [
       "True"
      ]
     },
     "metadata": {},
     "execution_count": 2
    }
   ],
   "metadata": {}
  },
  {
   "cell_type": "code",
   "execution_count": 3,
   "source": [
    "np.allclose(func.shifter(x/2).prox(x, tau), func.prox(x+x/2, tau)-x/2)"
   ],
   "outputs": [
    {
     "output_type": "execute_result",
     "data": {
      "text/plain": [
       "True"
      ]
     },
     "metadata": {},
     "execution_count": 3
    }
   ],
   "metadata": {}
  },
  {
   "cell_type": "code",
   "execution_count": 6,
   "source": [
    "for xp in [np, cp, da]:\n",
    "    func = L1Norm(dim=10)\n",
    "    x = xp.arange(10); tau=0.1\n",
    "    print(xp.allclose((2 * func).prox(x, tau), func.prox(x, 2 * tau)))\n",
    "    print(xp.allclose((func * 2).prox(x, tau), func.prox(x * 2, 4 * tau)/2))\n",
    "    print(xp.allclose((func * 2).prox(x, tau), func.prox(x * 2, 4 * tau)/2))"
   ],
   "outputs": [
    {
     "output_type": "stream",
     "name": "stdout",
     "text": [
      "True\n",
      "True\n",
      "True\n",
      "True\n",
      "True\n",
      "True\n",
      "dask.array<all-aggregate, shape=(), dtype=bool, chunksize=(), chunktype=numpy.ndarray>\n",
      "dask.array<all-aggregate, shape=(), dtype=bool, chunksize=(), chunktype=numpy.ndarray>\n",
      "dask.array<all-aggregate, shape=(), dtype=bool, chunksize=(), chunktype=numpy.ndarray>\n"
     ]
    }
   ],
   "metadata": {}
  },
  {
   "cell_type": "code",
   "execution_count": 7,
   "source": [
    "# TODO: Add support for jnp"
   ],
   "outputs": [],
   "metadata": {}
  },
  {
   "cell_type": "code",
   "execution_count": null,
   "source": [],
   "outputs": [],
   "metadata": {}
  }
 ],
 "metadata": {
  "kernelspec": {
   "name": "python3",
   "display_name": "Python 3.7.11 64-bit ('pycsou37': conda)"
  },
  "language_info": {
   "codemirror_mode": {
    "name": "ipython",
    "version": 3
   },
   "file_extension": ".py",
   "mimetype": "text/x-python",
   "name": "python",
   "nbconvert_exporter": "python",
   "pygments_lexer": "ipython3",
   "version": "3.7.11"
  },
  "interpreter": {
   "hash": "fd9ba42ee5482d7b6917e300c430d2a57008a9288be267792f28dc8aaa4e8cdb"
  }
 },
 "nbformat": 4,
 "nbformat_minor": 5
}