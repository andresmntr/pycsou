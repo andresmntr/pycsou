{
 "cells": [
  {
   "cell_type": "code",
   "execution_count": 1,
   "source": [
    "import sys\n",
    "sys.path.append('..')\n",
    "import numpy as np\n",
    "import cupy as cp\n",
    "import dask.array as da\n",
    "import jax.numpy as jnp"
   ],
   "outputs": [],
   "metadata": {}
  },
  {
   "cell_type": "markdown",
   "source": [
    "# L2Norm"
   ],
   "metadata": {}
  },
  {
   "cell_type": "code",
   "execution_count": 2,
   "source": [
    "import numpy as np\n",
    "from pycsou.func.penalty import L2Norm\n",
    "\n",
    "for xp in [np, cp]:\n",
    "    x = xp.arange(10)\n",
    "    norm = L2Norm(dim=x.size)\n",
    "    print(norm(x))\n",
    "    # 16.881943016134134\n",
    "    tau = 1.2; print(xp.allclose(norm.prox(x, tau=tau),xp.clip(1 - tau / norm(x), a_min=0, a_max=None) * x))\n",
    "    # True\n",
    "    lambda_ = 3; scaled_norm = lambda_ * norm; print(scaled_norm(x))\n",
    "    # 50.645829048402405\n",
    "    print(xp.allclose(scaled_norm.prox(x, tau=tau),xp.clip(1 - tau * lambda_ / norm(x), a_min=0, a_max=None) * x))\n",
    "    # True"
   ],
   "outputs": [
    {
     "output_type": "stream",
     "name": "stdout",
     "text": [
      "16.881943016134134\n",
      "True\n",
      "50.645829048402405\n",
      "True\n",
      "16.881943016134134\n",
      "True\n",
      "50.645829048402405\n",
      "True\n"
     ]
    }
   ],
   "metadata": {}
  },
  {
   "cell_type": "markdown",
   "source": [
    "# SquaredL2Norm"
   ],
   "metadata": {}
  },
  {
   "cell_type": "code",
   "execution_count": 3,
   "source": [
    "from pycsou.func.penalty import SquaredL2Norm\n",
    "from pycsou.linop.base import DenseLinearOperator\n",
    "\n",
    "for xp in [np, cp]:\n",
    "    x = xp.arange(10)\n",
    "    norm = SquaredL2Norm(dim=x.size)\n",
    "    print(norm(x))\n",
    "    # 285.00000000000006\n",
    "    print(xp.allclose(norm.gradient(x), 2 * x))\n",
    "    # True\n",
    "    lambda_=3; scaled_norm = lambda_ * norm\n",
    "    print(scaled_norm(x))\n",
    "    # 855.0000000000002\n",
    "    print(xp.allclose(scaled_norm.gradient(x), 2 * lambda_ *  x))\n",
    "    # True\n",
    "    Gmat = xp.arange(100).reshape(10, 10)\n",
    "    G = DenseLinearOperator(Gmat, is_symmetric=False)\n",
    "    weighted_norm = norm * G\n",
    "    print(xp.allclose(weighted_norm.gradient(x), 2 * Gmat.transpose() @ (Gmat @ x)))\n",
    "    # True"
   ],
   "outputs": [
    {
     "output_type": "stream",
     "name": "stdout",
     "text": [
      "285.00000000000006\n",
      "True\n",
      "855.0000000000002\n",
      "True\n",
      "True\n",
      "285.00000000000006\n",
      "True\n",
      "855.0000000000002\n",
      "True\n",
      "True\n"
     ]
    }
   ],
   "metadata": {}
  },
  {
   "cell_type": "markdown",
   "source": [
    "# L2Ball"
   ],
   "metadata": {}
  },
  {
   "cell_type": "code",
   "execution_count": null,
   "source": [
    "## L2Ball\n",
    "from pycsou.func.penalty import L2Ball\n",
    "from pycsou.math.prox import proj_l2_ball\n",
    "\n",
    "for xp in [np, cp]:\n",
    "    x1 = xp.arange(10); x2 = x1 / xp.linalg.norm(x1)\n",
    "    radius=10; ball = L2Ball(dim=x1.size, radius=radius)\n",
    "    print(ball(x1), ball(x2))\n",
    "    # (inf, 0)\n",
    "    print(xp.allclose(ball.prox(x1,tau=1), proj_l2_ball(x1, radius=radius)), xp.linalg.norm(ball.prox(x1,tau=1)))\n",
    "    # (True, 10.0)\n",
    "    print(xp.allclose(ball.prox(x2,tau=1), x2))\n",
    "    # True"
   ],
   "outputs": [
    {
     "output_type": "stream",
     "name": "stdout",
     "text": [
      "inf 0\n",
      "True 10.0\n",
      "True\n",
      "inf 0\n",
      "True 9.999999999999998\n",
      "True\n"
     ]
    }
   ],
   "metadata": {}
  },
  {
   "cell_type": "markdown",
   "source": [
    "# L1Norm"
   ],
   "metadata": {}
  },
  {
   "cell_type": "code",
   "execution_count": null,
   "source": [
    "from pycsou.func.penalty import L1Norm\n",
    "from pycsou.math.prox import soft\n",
    "\n",
    "for xp in [np, cp]:\n",
    "    x = xp.arange(10)\n",
    "    norm = L1Norm(dim=x.size)\n",
    "    print(norm(x))\n",
    "    # 45\n",
    "    tau=1.2; print(xp.allclose(norm.prox(x, tau=tau),soft(x,tau=tau)))\n",
    "    # True\n",
    "    lambda_=3; scaled_norm = lambda_ * norm; print(scaled_norm(x))\n",
    "    # 135\n",
    "    print(xp.allclose(scaled_norm.prox(x, tau=tau),soft(x,tau=tau * lambda_)))\n",
    "    # True"
   ],
   "outputs": [
    {
     "output_type": "stream",
     "name": "stdout",
     "text": [
      "45\n",
      "True\n",
      "135\n",
      "True\n",
      "45\n",
      "True\n",
      "135\n",
      "True\n"
     ]
    }
   ],
   "metadata": {}
  },
  {
   "cell_type": "markdown",
   "source": [
    "# SquaredL1Norm"
   ],
   "metadata": {}
  },
  {
   "cell_type": "code",
   "execution_count": null,
   "source": [
    "from pycsou.func.penalty import SquaredL1Norm\n",
    "\n",
    "for xp in [np, cp]:\n",
    "    x = xp.arange(10)\n",
    "    norm = SquaredL1Norm(dim=x.size, prox_computation='sort')\n",
    "    print(norm(x))\n",
    "    # 2025\n",
    "    norm2 = SquaredL1Norm(dim=x.size, prox_computation='root')\n",
    "    print(xp.allclose(norm.prox(x, tau=1),norm2.prox(x, tau=1)))\n",
    "    # True"
   ],
   "outputs": [
    {
     "output_type": "stream",
     "name": "stdout",
     "text": [
      "2025\n",
      "True\n",
      "2025\n",
      "True\n"
     ]
    }
   ],
   "metadata": {}
  },
  {
   "cell_type": "markdown",
   "source": [
    "# L1Ball"
   ],
   "metadata": {}
  },
  {
   "cell_type": "code",
   "execution_count": null,
   "source": [
    "from pycsou.func.penalty import L1Ball\n",
    "from pycsou.math.prox import proj_l1_ball\n",
    "\n",
    "for xp in [np, cp]:\n",
    "    x1 = xp.arange(10); x2 = x1 / xp.linalg.norm(x1, ord=1)\n",
    "    radius=10; ball = L1Ball(dim=x1.size, radius=radius)\n",
    "    print(ball(x1), ball(x2))\n",
    "    # (inf, 0)\n",
    "    print(xp.allclose(ball.prox(x1,tau=1), proj_l1_ball(x1, radius=radius)), xp.linalg.norm(ball.prox(x1,tau=1), ord=1))\n",
    "    # (True, 10.0)\n",
    "    print(xp.allclose(ball.prox(x2,tau=1), x2))\n",
    "    # True"
   ],
   "outputs": [
    {
     "output_type": "stream",
     "name": "stdout",
     "text": [
      "inf 0\n",
      "True 10.0\n",
      "True\n",
      "inf 0\n",
      "True 10.0\n",
      "True\n"
     ]
    }
   ],
   "metadata": {}
  },
  {
   "cell_type": "markdown",
   "source": [
    "# LInftyNorm"
   ],
   "metadata": {}
  },
  {
   "cell_type": "code",
   "execution_count": 4,
   "source": [
    "from pycsou.func.penalty import LInftyNorm\n",
    "\n",
    "for xp in [np, cp]:\n",
    "    x = xp.arange(10)\n",
    "    norm = LInftyNorm(dim=x.size)\n",
    "    print(norm(x))\n",
    "    lambda_ = 3; scaled_norm = lambda_ * norm; print(scaled_norm(x))\n"
   ],
   "outputs": [
    {
     "output_type": "stream",
     "name": "stdout",
     "text": [
      "9\n",
      "27\n",
      "9\n",
      "27\n"
     ]
    }
   ],
   "metadata": {}
  },
  {
   "cell_type": "markdown",
   "source": [
    "# LInftyBall"
   ],
   "metadata": {}
  },
  {
   "cell_type": "code",
   "execution_count": 5,
   "source": [
    "from pycsou.func.penalty import LInftyBall\n",
    "from pycsou.math.prox import proj_linfty_ball\n",
    "\n",
    "for xp in [np, cp]:\n",
    "    x1 = xp.arange(10); x2 = x1 / xp.linalg.norm(x1, ord=xp.inf)\n",
    "    radius=8; ball = LInftyBall(dim=x1.size, radius=radius)\n",
    "    print(ball(x1), ball(x2))\n",
    "    # (inf, 0)\n",
    "    print(xp.allclose(ball.prox(x1,tau=1), proj_linfty_ball(x1, radius=radius)), xp.linalg.norm(ball.prox(x1,tau=1), ord=xp.inf))\n",
    "    # (True, 8.0)\n",
    "    print(xp.allclose(ball.prox(x2,tau=1), x2))\n",
    "    # True"
   ],
   "outputs": [
    {
     "output_type": "stream",
     "name": "stdout",
     "text": [
      "inf 0\n",
      "True 8.0\n",
      "True\n",
      "inf 0\n",
      "True 8.0\n",
      "True\n"
     ]
    }
   ],
   "metadata": {}
  },
  {
   "cell_type": "markdown",
   "source": [
    "# L21Norm"
   ],
   "metadata": {}
  },
  {
   "cell_type": "code",
   "execution_count": 6,
   "source": [
    "from pycsou.func.penalty import L21Norm, L2Norm, L1Norm\n",
    "\n",
    "for xp in [np, cp]:\n",
    "    x = xp.arange(10,dtype=xp.float32)\n",
    "    groups = xp.concatenate((xp.ones(5),2*xp.ones(5)))\n",
    "    group_norm = L21Norm(dim=x.size,groups=groups)\n",
    "    print(type(group_norm))\n",
    "    # <class 'pycsou.func.penalty.L21Norm'>\n",
    "    print(group_norm(x))\n",
    "    # 21.44594499772297\n",
    "    l2_norm = L21Norm(dim=x.size,groups=xp.ones(x.size))\n",
    "    print(type(l2_norm))\n",
    "    # <class 'pycsou.func.penalty.L2Norm'>\n",
    "    l1_norm = L21Norm(dim=x.size,groups=xp.arange(x.size)) # Also if groups = None\n",
    "    print(type(l1_norm))\n",
    "    # <class 'pycsou.func.penalty.L1Norm'>\n",
    "    single_group_l2 = L2Norm(dim=x.size/2)\n",
    "    tau = 0.5; print(xp.allclose(group_norm.prox(x,tau=tau),xp.concatenate((single_group_l2.prox(x[0:5], tau=tau),single_group_l2.prox(x[5:10],tau=tau)))))\n",
    "    # True"
   ],
   "outputs": [
    {
     "output_type": "stream",
     "name": "stdout",
     "text": [
      "<class 'pycsou.func.penalty.L21Norm'>\n",
      "21.445946\n",
      "<class 'pycsou.func.penalty.L2Norm'>\n",
      "<class 'pycsou.func.penalty.L1Norm'>\n",
      "True\n",
      "<class 'pycsou.func.penalty.L21Norm'>\n",
      "21.445946\n",
      "<class 'pycsou.func.penalty.L2Norm'>\n",
      "<class 'pycsou.func.penalty.L1Norm'>\n",
      "True\n"
     ]
    }
   ],
   "metadata": {}
  },
  {
   "cell_type": "markdown",
   "source": [
    "# NonNegativeOrthant"
   ],
   "metadata": {}
  },
  {
   "cell_type": "code",
   "execution_count": 9,
   "source": [
    "from pycsou.func.penalty import NonNegativeOrthant\n",
    "from pycsou.math.prox import proj_nonnegative_orthant\n",
    "\n",
    "for xp in [np, xp]:\n",
    "    x1 = xp.arange(10) - 5\n",
    "    func = NonNegativeOrthant(dim=x1.size)\n",
    "    print(func(x1), func(xp.abs(x1)))\n",
    "    # (inf, 0)\n",
    "    print(xp.allclose(func.prox(x1,tau=1), proj_nonnegative_orthant(x1)))\n",
    "    # True\n",
    "    print(xp.all(func.prox(x1,tau=1) >= 0))\n",
    "    # True"
   ],
   "outputs": [
    {
     "output_type": "stream",
     "name": "stdout",
     "text": [
      "inf 0\n",
      "True\n",
      "True\n",
      "inf 0\n",
      "True\n",
      "True\n"
     ]
    }
   ],
   "metadata": {}
  },
  {
   "cell_type": "markdown",
   "source": [
    "# Segment"
   ],
   "metadata": {}
  },
  {
   "cell_type": "code",
   "execution_count": 11,
   "source": [
    "from pycsou.func.penalty import Segment\n",
    "from pycsou.math.prox import proj_segment\n",
    "\n",
    "for xp in [np, xp]:\n",
    "    x1 = np.arange(10) - 3\n",
    "    func = Segment(dim=x1.size, a=1, b=4)\n",
    "    print(func(x1), func(np.clip(x1, a_min=1, a_max=4)))\n",
    "    # (inf, 0)\n",
    "    print(np.allclose(func.prox(x1,tau=1), proj_segment(x1, a=1, b=4)))\n",
    "    # True\n",
    "    print(func.prox(x1,tau=1))\n",
    "    # array([1, 1, 1, 1, 1, 2, 3, 4, 4, 4])"
   ],
   "outputs": [
    {
     "output_type": "stream",
     "name": "stdout",
     "text": [
      "inf 0\n",
      "True\n",
      "[1 1 1 1 1 2 3 4 4 4]\n",
      "inf 0\n",
      "True\n",
      "[1 1 1 1 1 2 3 4 4 4]\n"
     ]
    }
   ],
   "metadata": {}
  },
  {
   "cell_type": "markdown",
   "source": [
    "# RealLine"
   ],
   "metadata": {}
  },
  {
   "cell_type": "code",
   "execution_count": 14,
   "source": [
    "from pycsou.func.penalty import RealLine\n",
    "\n",
    "for xp in [np, cp]:\n",
    "    x1 = xp.arange(10) + 1j\n",
    "    func = RealLine(dim=x1.size)\n",
    "    print(func(x1), func(xp.real(x1)))\n",
    "    # (inf, 0)\n",
    "    print(xp.allclose(func.prox(x1,tau=1), xp.real(x1)))\n",
    "    # True"
   ],
   "outputs": [
    {
     "output_type": "stream",
     "name": "stdout",
     "text": [
      "inf 0\n",
      "True\n",
      "inf 0\n",
      "True\n"
     ]
    }
   ],
   "metadata": {}
  },
  {
   "cell_type": "markdown",
   "source": [
    "# ImagLine"
   ],
   "metadata": {}
  },
  {
   "cell_type": "code",
   "execution_count": 15,
   "source": [
    "from pycsou.func.penalty import ImagLine\n",
    "\n",
    "for xp in [np, cp]:\n",
    "    x1 = xp.arange(10) + 1j * xp.arange(10)\n",
    "    func = ImagLine(dim=x1.size)\n",
    "    print(func(x1), func(1j * xp.imag(x1)))\n",
    "    # (inf, 0)\n",
    "    print(xp.allclose(func.prox(x1,tau=1), xp.imag(x1)))\n",
    "    # True"
   ],
   "outputs": [
    {
     "output_type": "stream",
     "name": "stdout",
     "text": [
      "inf 0\n",
      "True\n",
      "inf 0\n",
      "True\n"
     ]
    }
   ],
   "metadata": {}
  },
  {
   "cell_type": "markdown",
   "source": [
    "# LogBarrier"
   ],
   "metadata": {}
  },
  {
   "cell_type": "code",
   "execution_count": 16,
   "source": [
    "from pycsou.func.penalty import LogBarrier\n",
    "\n",
    "for xp in [np, cp]:\n",
    "    x1 = xp.arange(10)\n",
    "    func = LogBarrier(dim=x1.size)\n",
    "    print(func(x1), func(x1+2))\n",
    "    # (inf, -17.502307845873887)\n",
    "    print(xp.round(func.prox(x1,tau=1)))\n",
    "    # array([1., 2., 2., 3., 4., 5., 6., 7., 8., 9.])"
   ],
   "outputs": [
    {
     "output_type": "stream",
     "name": "stdout",
     "text": [
      "inf -17.502307845873887\n",
      "[1. 2. 2. 3. 4. 5. 6. 7. 8. 9.]\n",
      "inf -17.502307845873887\n",
      "[1. 2. 2. 3. 4. 5. 6. 7. 8. 9.]\n"
     ]
    }
   ],
   "metadata": {}
  },
  {
   "cell_type": "markdown",
   "source": [
    "# ShannonEntropy"
   ],
   "metadata": {}
  },
  {
   "cell_type": "code",
   "execution_count": 20,
   "source": [
    "from pycsou.func.penalty import ShannonEntropy\n",
    "\n",
    "for xp in [np, cp]:\n",
    "    x1 = xp.arange(10); x2=xp.zeros(10); x2[0]=10\n",
    "    func = ShannonEntropy(dim=x1.size)\n",
    "    print(func(x1), func(x2))\n",
    "    # (79.05697962199447, 23.02585092994046)\n",
    "    print(xp.round(func.prox(x1,tau=2)))\n",
    "    # array([0., 0., 1., 1., 1., 2., 2., 3., 3., 4.])"
   ],
   "outputs": [
    {
     "output_type": "stream",
     "name": "stdout",
     "text": [
      "79.05697962199447 23.02585092994046\n",
      "[0. 0. 1. 1. 1. 2. 2. 3. 3. 4.]\n",
      "79.05697962199447 23.02585092994046\n"
     ]
    },
    {
     "output_type": "error",
     "ename": "TypeError",
     "evalue": "operand type(s) all returned NotImplemented from __array_ufunc__(<ufunc '_lambertw'>, '__call__', array([ 0.18393972,  0.30326533,  0.5       ,  0.82436064,  1.35914091,\n        2.24084454,  3.69452805,  6.09124698, 10.04276846, 16.55772598]), 0, 1e-08): 'ndarray', 'int', 'float'",
     "traceback": [
      "\u001b[0;31m---------------------------------------------------------------------------\u001b[0m",
      "\u001b[0;31mTypeError\u001b[0m                                 Traceback (most recent call last)",
      "\u001b[0;32m<ipython-input-20-a0b88a876225>\u001b[0m in \u001b[0;36m<module>\u001b[0;34m\u001b[0m\n\u001b[1;32m      6\u001b[0m     \u001b[0mprint\u001b[0m\u001b[0;34m(\u001b[0m\u001b[0mfunc\u001b[0m\u001b[0;34m(\u001b[0m\u001b[0mx1\u001b[0m\u001b[0;34m)\u001b[0m\u001b[0;34m,\u001b[0m \u001b[0mfunc\u001b[0m\u001b[0;34m(\u001b[0m\u001b[0mx2\u001b[0m\u001b[0;34m)\u001b[0m\u001b[0;34m)\u001b[0m\u001b[0;34m\u001b[0m\u001b[0;34m\u001b[0m\u001b[0m\n\u001b[1;32m      7\u001b[0m     \u001b[0;31m# (79.05697962199447, 23.02585092994046)\u001b[0m\u001b[0;34m\u001b[0m\u001b[0;34m\u001b[0m\u001b[0;34m\u001b[0m\u001b[0m\n\u001b[0;32m----> 8\u001b[0;31m     \u001b[0mprint\u001b[0m\u001b[0;34m(\u001b[0m\u001b[0mxp\u001b[0m\u001b[0;34m.\u001b[0m\u001b[0mround\u001b[0m\u001b[0;34m(\u001b[0m\u001b[0mfunc\u001b[0m\u001b[0;34m.\u001b[0m\u001b[0mprox\u001b[0m\u001b[0;34m(\u001b[0m\u001b[0mx1\u001b[0m\u001b[0;34m,\u001b[0m\u001b[0mtau\u001b[0m\u001b[0;34m=\u001b[0m\u001b[0;36m2\u001b[0m\u001b[0;34m)\u001b[0m\u001b[0;34m)\u001b[0m\u001b[0;34m)\u001b[0m\u001b[0;34m\u001b[0m\u001b[0;34m\u001b[0m\u001b[0m\n\u001b[0m\u001b[1;32m      9\u001b[0m     \u001b[0;31m# array([0., 0., 1., 1., 1., 2., 2., 3., 3., 4.])\u001b[0m\u001b[0;34m\u001b[0m\u001b[0;34m\u001b[0m\u001b[0;34m\u001b[0m\u001b[0m\n",
      "\u001b[0;32m~/Desktop/lcav/pycsou/pycsou/func/penalty.py\u001b[0m in \u001b[0;36mprox\u001b[0;34m(self, x, tau)\u001b[0m\n\u001b[1;32m    933\u001b[0m         \"\"\"\n\u001b[1;32m    934\u001b[0m         \u001b[0;32mfrom\u001b[0m \u001b[0mscipy\u001b[0m\u001b[0;34m.\u001b[0m\u001b[0mspecial\u001b[0m \u001b[0;32mimport\u001b[0m \u001b[0mlambertw\u001b[0m\u001b[0;34m\u001b[0m\u001b[0;34m\u001b[0m\u001b[0m\n\u001b[0;32m--> 935\u001b[0;31m         \u001b[0;32mreturn\u001b[0m \u001b[0mnp\u001b[0m\u001b[0;34m.\u001b[0m\u001b[0mreal\u001b[0m\u001b[0;34m(\u001b[0m\u001b[0mtau\u001b[0m \u001b[0;34m*\u001b[0m \u001b[0mlambertw\u001b[0m\u001b[0;34m(\u001b[0m\u001b[0mnp\u001b[0m\u001b[0;34m.\u001b[0m\u001b[0mexp\u001b[0m\u001b[0;34m(\u001b[0m\u001b[0;34m-\u001b[0m\u001b[0;36m1\u001b[0m \u001b[0;34m+\u001b[0m \u001b[0;34m(\u001b[0m\u001b[0mx\u001b[0m \u001b[0;34m/\u001b[0m \u001b[0mtau\u001b[0m\u001b[0;34m)\u001b[0m\u001b[0;34m)\u001b[0m \u001b[0;34m/\u001b[0m \u001b[0mtau\u001b[0m\u001b[0;34m,\u001b[0m \u001b[0mk\u001b[0m\u001b[0;34m=\u001b[0m\u001b[0;36m0\u001b[0m\u001b[0;34m)\u001b[0m\u001b[0;34m)\u001b[0m\u001b[0;34m\u001b[0m\u001b[0;34m\u001b[0m\u001b[0m\n\u001b[0m\u001b[1;32m    936\u001b[0m \u001b[0;34m\u001b[0m\u001b[0m\n\u001b[1;32m    937\u001b[0m \u001b[0;34m\u001b[0m\u001b[0m\n",
      "\u001b[0;32m~/anaconda3/envs/pycsou37/lib/python3.7/site-packages/scipy/special/_lambertw.py\u001b[0m in \u001b[0;36mlambertw\u001b[0;34m(z, k, tol)\u001b[0m\n\u001b[1;32m    103\u001b[0m     \u001b[0;34m(\u001b[0m\u001b[0;36m0.64118574450498589\u001b[0m\u001b[0;34m+\u001b[0m\u001b[0;36m0j\u001b[0m\u001b[0;34m)\u001b[0m\u001b[0;34m\u001b[0m\u001b[0;34m\u001b[0m\u001b[0m\n\u001b[1;32m    104\u001b[0m     \"\"\"\n\u001b[0;32m--> 105\u001b[0;31m     \u001b[0;32mreturn\u001b[0m \u001b[0m_lambertw\u001b[0m\u001b[0;34m(\u001b[0m\u001b[0mz\u001b[0m\u001b[0;34m,\u001b[0m \u001b[0mk\u001b[0m\u001b[0;34m,\u001b[0m \u001b[0mtol\u001b[0m\u001b[0;34m)\u001b[0m\u001b[0;34m\u001b[0m\u001b[0;34m\u001b[0m\u001b[0m\n\u001b[0m",
      "\u001b[0;31mTypeError\u001b[0m: operand type(s) all returned NotImplemented from __array_ufunc__(<ufunc '_lambertw'>, '__call__', array([ 0.18393972,  0.30326533,  0.5       ,  0.82436064,  1.35914091,\n        2.24084454,  3.69452805,  6.09124698, 10.04276846, 16.55772598]), 0, 1e-08): 'ndarray', 'int', 'float'"
     ]
    }
   ],
   "metadata": {}
  },
  {
   "cell_type": "code",
   "execution_count": null,
   "source": [
    "# lambertw is a scipy function not implemented in cupy"
   ],
   "outputs": [],
   "metadata": {}
  },
  {
   "cell_type": "markdown",
   "source": [
    "# QuadraticForm"
   ],
   "metadata": {}
  },
  {
   "cell_type": "code",
   "execution_count": 21,
   "source": [
    "from pycsou.linop import DenseLinearOperator\n",
    "from pycsou.func.penalty import QuadraticForm\n",
    "\n",
    "for xp in [np, cp]:\n",
    "    rng = xp.random.default_rng(0)\n",
    "    L =  rng.standard_normal(100).reshape(10,10)\n",
    "    L = L.transpose() @ L #make definite positive\n",
    "    Lop = DenseLinearOperator(L)\n",
    "    F = QuadraticForm(dim=10,linop=Lop)\n",
    "    x = xp.arange(10)\n",
    "    print(xp.allclose(F(x), xp.dot(x, Lop @ x)))\n",
    "    # True\n",
    "    print(xp.allclose(F.gradient(x), 2 * Lop @ x))\n",
    "    # True"
   ],
   "outputs": [
    {
     "output_type": "stream",
     "name": "stdout",
     "text": [
      "True\n",
      "True\n",
      "True\n",
      "True\n"
     ]
    }
   ],
   "metadata": {}
  },
  {
   "cell_type": "code",
   "execution_count": null,
   "source": [],
   "outputs": [],
   "metadata": {}
  }
 ],
 "metadata": {
  "orig_nbformat": 4,
  "language_info": {
   "name": "python",
   "version": "3.7.11",
   "mimetype": "text/x-python",
   "codemirror_mode": {
    "name": "ipython",
    "version": 3
   },
   "pygments_lexer": "ipython3",
   "nbconvert_exporter": "python",
   "file_extension": ".py"
  },
  "kernelspec": {
   "name": "python3",
   "display_name": "Python 3.7.11 64-bit ('pycsou37': conda)"
  },
  "interpreter": {
   "hash": "fd9ba42ee5482d7b6917e300c430d2a57008a9288be267792f28dc8aaa4e8cdb"
  }
 },
 "nbformat": 4,
 "nbformat_minor": 2
}