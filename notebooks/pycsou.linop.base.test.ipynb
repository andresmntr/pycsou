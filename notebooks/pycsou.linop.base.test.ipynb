{
 "cells": [
  {
   "cell_type": "code",
   "execution_count": 1,
   "source": [
    "import sys\n",
    "sys.path.append('..')\n",
    "import numpy as np\n",
    "import cupy as cp\n",
    "import dask.array as da\n",
    "import jax.numpy as jnp"
   ],
   "outputs": [],
   "metadata": {}
  },
  {
   "cell_type": "markdown",
   "source": [
    "# LinOpStack"
   ],
   "metadata": {}
  },
  {
   "cell_type": "code",
   "execution_count": 6,
   "source": [
    "from pycsou.linop.base import LinOpStack\n",
    "from pycsou.util.misc import peaks\n",
    "\n",
    "from pycsou.linop.diff import FirstDerivative, Gradient\n",
    "\n",
    "for xp in [np, cp]:# , da, jnp]:\n",
    "    x = xp.linspace(-2.5, 2.5, 100)\n",
    "    X,Y = xp.meshgrid(x,x)\n",
    "    Z = peaks(X, Y)\n",
    "    D1 = FirstDerivative(size=Z.size, shape=Z.shape, axis=0, kind='centered')\n",
    "    D2 = FirstDerivative(size=Z.size, shape=Z.shape, axis=1, kind='centered')\n",
    "    G1 = LinOpStack(D1, D2, axis=0)\n",
    "    G2 = Gradient(shape=Z.shape, kind='centered')\n",
    "    Z_d = D2*Z.flatten()\n",
    "    print(xp.allclose(G1*Z.flatten(), G2 * Z.flatten()))\n",
    "    # True\n",
    "    print(xp.allclose(G1.adjoint(G1*Z.flatten()), G2.adjoint(G2 * Z.flatten())))\n",
    "    # True\n",
    "    G3 = LinOpStack(D1.H, D2.H, axis=1)\n",
    "    print(xp.allclose(G1.adjoint(G1*Z.flatten()), (G3 * G1) * Z.flatten()))\n",
    "    # True\n",
    "    parG1 = LinOpStack(D1, D2, axis=0, n_jobs=-1)\n",
    "    parG3 = LinOpStack(D1.H, D2.H, axis=1, n_jobs=-1)\n",
    "    print(xp.allclose(G1.adjoint(G1*Z.flatten()), parG1.adjoint(parG1*Z.flatten())))\n",
    "    # True\n",
    "    print(xp.allclose((G3 * G1) * Z.flatten(), (parG3 * parG1) * Z.flatten()))\n",
    "    # True\n",
    "\n"
   ],
   "outputs": [
    {
     "output_type": "stream",
     "name": "stdout",
     "text": [
      "True\n",
      "True\n",
      "True\n",
      "True\n",
      "True\n",
      "True\n",
      "True\n",
      "True\n",
      "True\n",
      "True\n"
     ]
    }
   ],
   "metadata": {}
  },
  {
   "cell_type": "markdown",
   "source": [
    "# BlockOperator"
   ],
   "metadata": {}
  },
  {
   "cell_type": "code",
   "execution_count": 7,
   "source": [
    "from pycsou.linop.base import BlockOperator\n",
    "from pycsou.linop.diff import SecondDerivative\n",
    "\n",
    "for xp in [np, cp]:\n",
    "    Nv, Nh = 11, 21\n",
    "    D2hop = SecondDerivative(size=Nv * Nh, shape=(Nv,Nh), axis=1)\n",
    "    D2vop = SecondDerivative(size=Nv * Nh, shape=(Nv,Nh), axis=0)\n",
    "    Dblock = BlockOperator([[D2vop, 0.5 * D2vop, - D2hop], [D2hop, 2 * D2hop, D2vop]])\n",
    "    x = xp.zeros((Nv, Nh)); x[int(Nv//2), int(Nh//2)] = 1; z = xp.tile(x, (3,1)).flatten()\n",
    "    print(xp.allclose(Dblock(z), xp.concatenate(((D2vop + 0.5 * D2vop - D2hop)(x.flatten()), (D2hop + 2 * D2hop + D2vop)(x.flatten())))))\n",
    "    #True"
   ],
   "outputs": [
    {
     "output_type": "stream",
     "name": "stdout",
     "text": [
      "True\n",
      "True\n"
     ]
    }
   ],
   "metadata": {}
  },
  {
   "cell_type": "markdown",
   "source": [
    "# BlockDiagonalOperator"
   ],
   "metadata": {}
  },
  {
   "cell_type": "code",
   "execution_count": 8,
   "source": [
    "from pycsou.linop.base import BlockDiagonalOperator\n",
    "from pycsou.linop.diff import SecondDerivative\n",
    "\n",
    "for xp in [np, cp]:\n",
    "    Nv, Nh = 11, 21\n",
    "    D2hop = SecondDerivative(size=Nv * Nh, shape=(Nv,Nh), axis=1)\n",
    "    D2vop = SecondDerivative(size=Nv * Nh, shape=(Nv,Nh), axis=0)\n",
    "    Dblockdiag = BlockDiagonalOperator(D2vop, 0.5 * D2vop, -1 * D2hop)\n",
    "    x = xp.zeros((Nv, Nh)); x[int(Nv//2), int(Nh//2)] = 1; z = xp.tile(x, (3,1)).flatten()\n",
    "    print(xp.allclose(Dblockdiag(z), xp.concatenate((D2vop(x.flatten()), 0.5 * D2vop(x.flatten()), - D2hop(x.flatten())))))\n",
    "    #True"
   ],
   "outputs": [
    {
     "output_type": "stream",
     "name": "stdout",
     "text": [
      "True\n",
      "True\n"
     ]
    }
   ],
   "metadata": {}
  },
  {
   "cell_type": "markdown",
   "source": [
    "# PolynomialLinearOperator"
   ],
   "metadata": {}
  },
  {
   "cell_type": "code",
   "execution_count": 10,
   "source": [
    "from pycsou.linop import DenseLinearOperator, PolynomialLinearOperator\n",
    "\n",
    "for xp in [np, cp]:\n",
    "    L = DenseLinearOperator(xp.arange(64).reshape(8,8))\n",
    "    PL = PolynomialLinearOperator(LinOp=L, coeffs=[1/2 ,2, 1])\n",
    "    x = xp.arange(8)\n",
    "    print(xp.allclose(PL(x), x/2 + 2 * L(x) + (L**2)(x)))\n",
    "    #True"
   ],
   "outputs": [
    {
     "output_type": "stream",
     "name": "stdout",
     "text": [
      "True\n",
      "True\n"
     ]
    }
   ],
   "metadata": {}
  },
  {
   "cell_type": "markdown",
   "source": [
    "# KroneckerProduct"
   ],
   "metadata": {}
  },
  {
   "cell_type": "code",
   "execution_count": 11,
   "source": [
    "from pycsou.linop.base import KroneckerProduct\n",
    "from pycsou.linop.diff import SecondDerivative\n",
    "\n",
    "for xp in [np, cp]:\n",
    "    Nv, Nh = 11, 21\n",
    "    D2hop = SecondDerivative(size=Nh)\n",
    "    D2vop = SecondDerivative(size=Nv)\n",
    "    Dkron = KroneckerProduct(D2hop, D2vop)\n",
    "    x = xp.zeros((Nv, Nh)); x[int(Nv//2), int(Nh//2)] = 1\n",
    "    print(xp.allclose(Dkron(x.flatten()), D2vop.apply_along_axis(D2hop.apply_along_axis(x.transpose(), axis=0).transpose(), axis=0).flatten()))\n",
    "    #True\n"
   ],
   "outputs": [
    {
     "output_type": "stream",
     "name": "stdout",
     "text": [
      "True\n",
      "True\n"
     ]
    }
   ],
   "metadata": {}
  },
  {
   "cell_type": "markdown",
   "source": [
    "# KroneckerSum"
   ],
   "metadata": {}
  },
  {
   "cell_type": "code",
   "execution_count": 6,
   "source": [
    "\n",
    "from pycsou.linop.base import KroneckerProduct, KroneckerSum, DiagonalOperator\n",
    "\n",
    "for xp in [np, cp]:\n",
    "    m1=xp.linspace(0,3,5); m2=xp.linspace(-3,2,7)\n",
    "    D1=DiagonalOperator(m1); \n",
    "    ExpD1=DiagonalOperator(xp.exp(m1))\n",
    "    D2=DiagonalOperator(m2); ExpD2=DiagonalOperator(xp.exp(m2))\n",
    "    Expkronprod=KroneckerProduct(ExpD1,ExpD2)\n",
    "    Kronsum=KroneckerSum(D1,D2)\n",
    "    print(xp.allclose(xp.diag(Expkronprod.todense(xp).mat), xp.exp(xp.diag(Kronsum.todense(xp).mat))))\n",
    "    #True"
   ],
   "outputs": [
    {
     "output_type": "stream",
     "name": "stdout",
     "text": [
      "True\n",
      "True\n"
     ]
    }
   ],
   "metadata": {}
  },
  {
   "cell_type": "markdown",
   "source": [
    "# KhatriRaoProduct"
   ],
   "metadata": {}
  },
  {
   "cell_type": "code",
   "execution_count": 2,
   "source": [
    "from pycsou.linop.base import KhatriRaoProduct\n",
    "from pycsou.linop.diff import SecondDerivative\n",
    "\n",
    "for xp in [np, cp]:\n",
    "    D1 = SecondDerivative(size=11)\n",
    "    D2 = SecondDerivative(size=11)\n",
    "    Dkrao = KhatriRaoProduct(D1, D2)\n",
    "    x = xp.arange(11)\n",
    "    print(Dkrao(x).shape)\n",
    "    #(121,)\n",
    "    print(D2.todense(xp).mat.transpose().flatten())\n",
    "    print(xp.allclose(Dkrao(x), ((D1.todense(xp).mat * x[None, :]) @ D2.todense(xp).mat.transpose()).flatten()))\n",
    "    #True"
   ],
   "outputs": [
    {
     "output_type": "stream",
     "name": "stdout",
     "text": [
      "(121,)\n",
      "[ 1.  1.  0.  0.  0.  0.  0.  0.  0.  0.  0. -2. -2.  1.  0.  0.  0.  0.\n",
      "  0.  0.  0.  0.  1.  1. -2.  1.  0.  0.  0.  0.  0.  0.  0.  0.  0.  1.\n",
      " -2.  1.  0.  0.  0.  0.  0.  0.  0.  0.  0.  1. -2.  1.  0.  0.  0.  0.\n",
      "  0.  0.  0.  0.  0.  1. -2.  1.  0.  0.  0.  0.  0.  0.  0.  0.  0.  1.\n",
      " -2.  1.  0.  0.  0.  0.  0.  0.  0.  0.  0.  1. -2.  1.  0.  0.  0.  0.\n",
      "  0.  0.  0.  0.  0.  1. -2.  1.  1.  0.  0.  0.  0.  0.  0.  0.  0.  1.\n",
      " -2. -2.  0.  0.  0.  0.  0.  0.  0.  0.  0.  1.  1.]\n",
      "True\n",
      "(121,)\n",
      "[ 1.  1.  0.  0.  0.  0.  0.  0.  0.  0.  0. -2. -2.  1.  0.  0.  0.  0.\n",
      "  0.  0.  0.  0.  1.  1. -2.  1.  0.  0.  0.  0.  0.  0.  0.  0.  0.  1.\n",
      " -2.  1.  0.  0.  0.  0.  0.  0.  0.  0.  0.  1. -2.  1.  0.  0.  0.  0.\n",
      "  0.  0.  0.  0.  0.  1. -2.  1.  0.  0.  0.  0.  0.  0.  0.  0.  0.  1.\n",
      " -2.  1.  0.  0.  0.  0.  0.  0.  0.  0.  0.  1. -2.  1.  0.  0.  0.  0.\n",
      "  0.  0.  0.  0.  0.  1. -2.  1.  1.  0.  0.  0.  0.  0.  0.  0.  0.  1.\n",
      " -2. -2.  0.  0.  0.  0.  0.  0.  0.  0.  0.  1.  1.]\n",
      "True\n"
     ]
    }
   ],
   "metadata": {}
  },
  {
   "cell_type": "code",
   "execution_count": null,
   "source": [],
   "outputs": [],
   "metadata": {}
  }
 ],
 "metadata": {
  "kernelspec": {
   "name": "python3",
   "display_name": "Python 3.7.11 64-bit ('pycsou37': conda)"
  },
  "language_info": {
   "codemirror_mode": {
    "name": "ipython",
    "version": 3
   },
   "file_extension": ".py",
   "mimetype": "text/x-python",
   "name": "python",
   "nbconvert_exporter": "python",
   "pygments_lexer": "ipython3",
   "version": "3.7.11"
  },
  "interpreter": {
   "hash": "fd9ba42ee5482d7b6917e300c430d2a57008a9288be267792f28dc8aaa4e8cdb"
  }
 },
 "nbformat": 4,
 "nbformat_minor": 5
}