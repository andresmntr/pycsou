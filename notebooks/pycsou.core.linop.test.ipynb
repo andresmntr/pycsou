{
 "cells": [
  {
   "cell_type": "code",
   "execution_count": 1,
   "source": [
    "import sys\n",
    "sys.path.append(\"..\")\n",
    "\n",
    "import numpy as np \n",
    "import cupy as cp\n",
    "import dask.array as da\n",
    "import jax.numpy as jnp"
   ],
   "outputs": [],
   "metadata": {}
  },
  {
   "cell_type": "code",
   "execution_count": 2,
   "source": [
    "import numpy as np\n",
    "from pycsou.linop.conv import Convolve1D\n",
    "from scipy import signal"
   ],
   "outputs": [],
   "metadata": {}
  },
  {
   "cell_type": "markdown",
   "source": [
    "# Linear Operator\n",
    "## singularvals"
   ],
   "metadata": {}
  },
  {
   "cell_type": "code",
   "execution_count": 9,
   "source": [
    "for xp in [np, cp]: #, da, jnp]:\n",
    "    sig = xp.repeat(xp.array([0., 1., 0.]), 10)\n",
    "    filter = signal.hann(5); filter[filter.size//2:] = 0\n",
    "    ConvOp = Convolve1D(size=sig.size, filter=filter)\n",
    "    print(xp.round((ConvOp.singularvals(k=3, which='LM', tol=1e-3)), 2))"
   ],
   "outputs": [
    {
     "output_type": "stream",
     "name": "stdout",
     "text": [
      "[0.5 0.5 0.5]\n",
      "[0.5 0.5 0.5]\n"
     ]
    }
   ],
   "metadata": {}
  },
  {
   "cell_type": "markdown",
   "source": [
    "## compute_lipschitz_cst"
   ],
   "metadata": {}
  },
  {
   "cell_type": "code",
   "execution_count": 12,
   "source": [
    "for xp in [np, cp]:\n",
    "    sig = xp.repeat(xp.array([0., 1., 0.]), 10)\n",
    "    filter = signal.hann(5); filter[filter.size//2:] = 0\n",
    "    ConvOp = Convolve1D(size=sig.size, filter=filter)\n",
    "    ConvOp.compute_lipschitz_cst(tol=1e-2)\n",
    "    print(xp.round(ConvOp.lipschitz_cst,1))"
   ],
   "outputs": [
    {
     "output_type": "stream",
     "name": "stdout",
     "text": [
      "0.5\n",
      "0.5\n"
     ]
    }
   ],
   "metadata": {}
  },
  {
   "cell_type": "code",
   "execution_count": null,
   "source": [],
   "outputs": [],
   "metadata": {}
  }
 ],
 "metadata": {
  "kernelspec": {
   "name": "python3",
   "display_name": "Python 3.7.11 64-bit ('pycsou37': conda)"
  },
  "language_info": {
   "codemirror_mode": {
    "name": "ipython",
    "version": 3
   },
   "file_extension": ".py",
   "mimetype": "text/x-python",
   "name": "python",
   "nbconvert_exporter": "python",
   "pygments_lexer": "ipython3",
   "version": "3.7.11"
  },
  "interpreter": {
   "hash": "fd9ba42ee5482d7b6917e300c430d2a57008a9288be267792f28dc8aaa4e8cdb"
  }
 },
 "nbformat": 4,
 "nbformat_minor": 5
}