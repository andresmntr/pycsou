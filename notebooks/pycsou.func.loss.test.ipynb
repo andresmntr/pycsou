{
 "cells": [
  {
   "cell_type": "code",
   "execution_count": 2,
   "source": [
    "import sys\n",
    "sys.path.append('..')\n",
    "import numpy as np\n",
    "import cupy as cp\n",
    "import dask.array as da\n",
    "import jax.numpy as jnp"
   ],
   "outputs": [],
   "metadata": {}
  },
  {
   "cell_type": "markdown",
   "source": [
    "# ProximableLoss"
   ],
   "metadata": {}
  },
  {
   "cell_type": "code",
   "execution_count": 6,
   "source": [
    "\n",
    "from pycsou.func.loss import ProximableLoss\n",
    "from pycsou.func.penalty import L1Norm\n",
    "\n",
    "for xp in [np, cp]:\n",
    "    y = xp.arange(10)\n",
    "    func = L1Norm(dim=y.size)\n",
    "    loss = ProximableLoss(func=func, data=y)\n",
    "    x = 2 * xp.arange(10)\n",
    "    print(xp.allclose(loss(x), func(x-y)))\n",
    "    # True\n",
    "    print(xp.allclose(loss.prox(x, tau=1), func.prox(x-y, tau=1) + y))\n",
    "    # True"
   ],
   "outputs": [
    {
     "output_type": "stream",
     "name": "stdout",
     "text": [
      "True\n",
      "True\n",
      "True\n",
      "True\n"
     ]
    }
   ],
   "metadata": {}
  },
  {
   "cell_type": "markdown",
   "source": [
    "# DifferentiableLoss"
   ],
   "metadata": {}
  },
  {
   "cell_type": "code",
   "execution_count": 7,
   "source": [
    "from pycsou.func.loss import DifferentiableLoss\n",
    "from pycsou.func.penalty import SquaredL2Norm\n",
    "\n",
    "for xp in [np, cp]:\n",
    "    y = xp.arange(10)\n",
    "    func = SquaredL2Norm(dim=y.size)\n",
    "    loss = DifferentiableLoss(func=func, data=y)\n",
    "    x = 2 * xp.arange(10)\n",
    "    print(xp.allclose(loss(x), func(x-y)))\n",
    "    # True\n",
    "    print(xp.allclose(loss.gradient(x), 2*(x-y)))\n",
    "    # True\n"
   ],
   "outputs": [
    {
     "output_type": "stream",
     "name": "stdout",
     "text": [
      "True\n",
      "True\n",
      "True\n",
      "True\n"
     ]
    }
   ],
   "metadata": {}
  },
  {
   "cell_type": "markdown",
   "source": [
    "# L2Loss"
   ],
   "metadata": {}
  },
  {
   "cell_type": "code",
   "execution_count": 8,
   "source": [
    "from pycsou.func.loss import L2Loss\n",
    "from pycsou.func.penalty import L2Norm\n",
    "\n",
    "for xp in [np, cp]:\n",
    "    y = xp.arange(10)\n",
    "    loss = L2Loss(dim=y.size, data=y)\n",
    "    func = L2Norm(dim=y.size)\n",
    "    x = 2 * xp.arange(10)\n",
    "    print(xp.allclose(loss.prox(x, tau=1), func.prox(x-y, tau=1) + y))\n",
    "    # True"
   ],
   "outputs": [
    {
     "output_type": "stream",
     "name": "stdout",
     "text": [
      "True\n",
      "True\n"
     ]
    }
   ],
   "metadata": {}
  },
  {
   "cell_type": "markdown",
   "source": [
    "# SquaredL2Loss"
   ],
   "metadata": {}
  },
  {
   "cell_type": "code",
   "execution_count": 9,
   "source": [
    "from pycsou.func.loss import SquaredL2Loss\n",
    "from pycsou.func.penalty import SquaredL2Norm\n",
    "from pycsou.linop.base import DenseLinearOperator\n",
    "\n",
    "for xp in [np, cp]:\n",
    "    y = np.arange(10)\n",
    "    loss = SquaredL2Loss(dim=y.size, data=y)\n",
    "    Gmat = np.arange(100).reshape(10, 10).astype(float)\n",
    "    G = DenseLinearOperator(Gmat, is_symmetric=False)\n",
    "    G.compute_lipschitz_cst()\n",
    "    fwd_loss = loss * G\n",
    "    x = 2 * np.arange(10)\n",
    "    print(np.allclose(loss(x), np.linalg.norm(y - x) ** 2))\n",
    "    # True\n",
    "    print(np.allclose(fwd_loss(x), loss(G(x))))\n",
    "    # True\n",
    "    print(np.allclose(fwd_loss.diff_lipschitz_cst, 2 * (G.lipschitz_cst ** 2)))\n",
    "    # True\n",
    "    print(np.allclose(fwd_loss.gradient(x), 2 * G.adjoint(G(x) - y)))\n",
    "    # True"
   ],
   "outputs": [
    {
     "output_type": "stream",
     "name": "stdout",
     "text": [
      "True\n",
      "True\n",
      "True\n",
      "True\n",
      "True\n",
      "True\n",
      "True\n",
      "True\n"
     ]
    }
   ],
   "metadata": {}
  },
  {
   "cell_type": "markdown",
   "source": [
    "# L2BallLoss"
   ],
   "metadata": {}
  },
  {
   "cell_type": "code",
   "execution_count": 10,
   "source": [
    "from pycsou.func.loss import L2BallLoss\n",
    "from pycsou.func.penalty import L2Ball\n",
    "\n",
    "for xp in [np, cp]:\n",
    "    y = xp.arange(10)\n",
    "    loss = L2BallLoss(dim=y.size, data=y, radius=2)\n",
    "    func = L2Ball(dim=y.size, radius=2)\n",
    "    x = 2 * xp.arange(10)\n",
    "    print(xp.allclose(loss.prox(x, tau=1), func.prox(x-y, tau=1) + y))\n",
    "    # True"
   ],
   "outputs": [
    {
     "output_type": "stream",
     "name": "stdout",
     "text": [
      "True\n",
      "True\n"
     ]
    }
   ],
   "metadata": {}
  },
  {
   "cell_type": "markdown",
   "source": [
    "# L1Loss"
   ],
   "metadata": {}
  },
  {
   "cell_type": "code",
   "execution_count": 12,
   "source": [
    "from pycsou.func.loss import L1Loss\n",
    "from pycsou.func.penalty import L1Norm\n",
    "\n",
    "for xp in [np, cp]:\n",
    "    y = np.arange(10)\n",
    "    loss = L1Loss(dim=y.size, data=y)\n",
    "    func = L1Norm(dim=y.size)\n",
    "    x = 2 * np.arange(10)\n",
    "    print(np.allclose(loss.prox(x, tau=1), func.prox(x-y, tau=1) + y))\n",
    "    # True"
   ],
   "outputs": [
    {
     "output_type": "stream",
     "name": "stdout",
     "text": [
      "True\n",
      "True\n"
     ]
    }
   ],
   "metadata": {}
  },
  {
   "cell_type": "markdown",
   "source": [
    "# SquaredL1Loss"
   ],
   "metadata": {}
  },
  {
   "cell_type": "code",
   "execution_count": 13,
   "source": [
    "from pycsou.func.loss import SquaredL1Loss\n",
    "from pycsou.func.penalty import SquaredL1Norm\n",
    "\n",
    "for xp in [np, xp]:\n",
    "    y = xp.arange(10)\n",
    "    loss = SquaredL1Loss(dim=y.size, data=y)\n",
    "    func = SquaredL1Norm(dim=y.size)\n",
    "    x = 2 * xp.arange(10)\n",
    "    print(xp.allclose(loss.prox(x, tau=1), func.prox(x-y, tau=1) + y))\n",
    "    # True"
   ],
   "outputs": [
    {
     "output_type": "stream",
     "name": "stdout",
     "text": [
      "True\n",
      "True\n"
     ]
    }
   ],
   "metadata": {}
  },
  {
   "cell_type": "markdown",
   "source": [
    "# L1BallLoss"
   ],
   "metadata": {}
  },
  {
   "cell_type": "code",
   "execution_count": 15,
   "source": [
    "from pycsou.func.loss import L1BallLoss\n",
    "from pycsou.func.penalty import L1Ball\n",
    "\n",
    "for xp in [np, cp]:\n",
    "    y = xp.arange(10)\n",
    "    loss = L1BallLoss(dim=y.size, data=y, radius=2)\n",
    "    func = L1Ball(dim=y.size, radius=2)\n",
    "    x = 2 * xp.arange(10)\n",
    "    print(xp.allclose(loss.prox(x, tau=1), func.prox(x-y, tau=1) + y))\n",
    "    # True"
   ],
   "outputs": [
    {
     "output_type": "stream",
     "name": "stdout",
     "text": [
      "True\n",
      "True\n"
     ]
    }
   ],
   "metadata": {}
  },
  {
   "cell_type": "markdown",
   "source": [
    "# LInftyLoss"
   ],
   "metadata": {}
  },
  {
   "cell_type": "code",
   "execution_count": 16,
   "source": [
    "from pycsou.func.loss import LInftyLoss\n",
    "from pycsou.func.penalty import LInftyNorm\n",
    "\n",
    "for xp in [np, cp]:\n",
    "    y = np.arange(10)\n",
    "    loss = LInftyLoss(dim=y.size, data=y)\n",
    "    func = LInftyNorm(dim=y.size)\n",
    "    x = 2 * np.arange(10)\n",
    "    loss(x)\n",
    "    # 9\n",
    "    print(np.allclose(loss.prox(x, tau=1), func.prox(x-y, tau=1) + y))\n",
    "    # True"
   ],
   "outputs": [
    {
     "output_type": "stream",
     "name": "stdout",
     "text": [
      "True\n",
      "True\n"
     ]
    }
   ],
   "metadata": {}
  },
  {
   "cell_type": "markdown",
   "source": [
    "# LInftyBallLoss"
   ],
   "metadata": {}
  },
  {
   "cell_type": "code",
   "execution_count": 18,
   "source": [
    "from pycsou.func.loss import LInftyBallLoss\n",
    "from pycsou.func.penalty import LInftyBall\n",
    "\n",
    "for xp in [np, cp]:\n",
    "    y = xp.arange(10)\n",
    "    loss = LInftyBallLoss(dim=y.size, data=y, radius=2)\n",
    "    func = LInftyBall(dim=y.size, radius=2)\n",
    "    x = 2 * xp.arange(10)\n",
    "    print(xp.allclose(loss.prox(x, tau=1), func.prox(x-y, tau=1) + y))\n",
    "    # True"
   ],
   "outputs": [
    {
     "output_type": "stream",
     "name": "stdout",
     "text": [
      "True\n",
      "True\n"
     ]
    }
   ],
   "metadata": {}
  },
  {
   "cell_type": "markdown",
   "source": [
    "# ConsistencyLoss"
   ],
   "metadata": {}
  },
  {
   "cell_type": "code",
   "execution_count": 19,
   "source": [
    "from pycsou.func.loss import ConsistencyLoss\n",
    "\n",
    "for xp in [np, cp]:\n",
    "    y = xp.arange(10)\n",
    "    loss = ConsistencyLoss(dim=y.size, data=y)\n",
    "    x = 2 * xp.arange(10)\n",
    "    loss(x), loss(y)\n",
    "    # (inf, 0)\n",
    "    print(xp.allclose(loss.prox(x, tau=1), y))\n",
    "    # True"
   ],
   "outputs": [
    {
     "output_type": "stream",
     "name": "stdout",
     "text": [
      "True\n",
      "True\n"
     ]
    }
   ],
   "metadata": {}
  },
  {
   "cell_type": "markdown",
   "source": [
    "# KLDivergence"
   ],
   "metadata": {}
  },
  {
   "cell_type": "code",
   "execution_count": 21,
   "source": [
    "from pycsou.func.loss import KLDivergence\n",
    "\n",
    "for xp in [np, cp]:\n",
    "    y = xp.arange(10)\n",
    "    loss = KLDivergence(dim=y.size, data=y)\n",
    "    x = 2 * xp.arange(10)\n",
    "    print(loss(x))\n",
    "    # 13.80837687480246\n",
    "    print(xp.round(loss.prox(x, tau=1)), type(xp.round(loss.prox(x, tau=1))))\n",
    "    # array([ 0.,  2.,  4.,  6.,  8., 10., 12., 14., 16., 18.])"
   ],
   "outputs": [
    {
     "output_type": "stream",
     "name": "stdout",
     "text": [
      "13.80837687480246\n",
      "[ 0.  2.  4.  6.  8. 10. 12. 14. 16. 18.] <class 'numpy.ndarray'>\n",
      "13.80837687480246\n",
      "[ 0.  2.  4.  6.  8. 10. 12. 14. 16. 18.] <class 'cupy._core.core.ndarray'>\n"
     ]
    }
   ],
   "metadata": {}
  },
  {
   "cell_type": "code",
   "execution_count": null,
   "source": [],
   "outputs": [],
   "metadata": {}
  }
 ],
 "metadata": {
  "orig_nbformat": 4,
  "language_info": {
   "name": "python",
   "version": "3.7.11",
   "mimetype": "text/x-python",
   "codemirror_mode": {
    "name": "ipython",
    "version": 3
   },
   "pygments_lexer": "ipython3",
   "nbconvert_exporter": "python",
   "file_extension": ".py"
  },
  "kernelspec": {
   "name": "python3",
   "display_name": "Python 3.7.11 64-bit ('pycsou37': conda)"
  },
  "interpreter": {
   "hash": "fd9ba42ee5482d7b6917e300c430d2a57008a9288be267792f28dc8aaa4e8cdb"
  }
 },
 "nbformat": 4,
 "nbformat_minor": 2
}